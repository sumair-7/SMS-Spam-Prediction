{
  "nbformat": 4,
  "nbformat_minor": 0,
  "metadata": {
    "kernelspec": {
      "display_name": "Python 3",
      "language": "python",
      "name": "python3"
    },
    "language_info": {
      "codemirror_mode": {
        "name": "ipython",
        "version": 3
      },
      "file_extension": ".py",
      "mimetype": "text/x-python",
      "name": "python",
      "nbconvert_exporter": "python",
      "pygments_lexer": "ipython3",
      "version": "3.8.10"
    },
    "colab": {
      "name": "Copy of Copy of SMS Spam.ipynb",
      "provenance": [],
      "toc_visible": true,
      "include_colab_link": true
    }
  },
  "cells": [
    {
      "cell_type": "markdown",
      "metadata": {
        "id": "view-in-github",
        "colab_type": "text"
      },
      "source": [
        "<a href=\"https://colab.research.google.com/github/sumair-7/SMS-Spam-Prediction/blob/master/SMS_Spam.ipynb\" target=\"_parent\"><img src=\"https://colab.research.google.com/assets/colab-badge.svg\" alt=\"Open In Colab\"/></a>"
      ]
    },
    {
      "cell_type": "markdown",
      "metadata": {
        "id": "6nAxJaTkW1KV"
      },
      "source": [
        "# SMS Spam Prediction using Machine Learning and Deep Learning"
      ]
    },
    {
      "cell_type": "code",
      "metadata": {
        "id": "s4q0D4aEW1Ke",
        "colab": {
          "base_uri": "https://localhost:8080/"
        },
        "outputId": "0357c80a-817e-499a-f160-10aea9a2b651"
      },
      "source": [
        "#import required libraries\n",
        "import pandas as pd\n",
        "import numpy as np\n",
        "import matplotlib.pyplot as plt\n",
        "import seaborn as sns\n",
        "import re\n",
        "import nltk\n",
        "nltk.download('stopwords')\n",
        "nltk.download('wordnet')\n",
        "from nltk.corpus import stopwords\n",
        "from nltk.stem import PorterStemmer\n",
        "from nltk.stem import WordNetLemmatizer\n",
        "\n",
        "nltk.download('punkt')"
      ],
      "execution_count": 23,
      "outputs": [
        {
          "output_type": "stream",
          "name": "stdout",
          "text": [
            "[nltk_data] Downloading package stopwords to /root/nltk_data...\n",
            "[nltk_data]   Package stopwords is already up-to-date!\n",
            "[nltk_data] Downloading package wordnet to /root/nltk_data...\n",
            "[nltk_data]   Package wordnet is already up-to-date!\n",
            "[nltk_data] Downloading package punkt to /root/nltk_data...\n",
            "[nltk_data]   Package punkt is already up-to-date!\n"
          ]
        },
        {
          "output_type": "execute_result",
          "data": {
            "text/plain": [
              "True"
            ]
          },
          "metadata": {},
          "execution_count": 23
        }
      ]
    },
    {
      "cell_type": "code",
      "metadata": {
        "colab": {
          "base_uri": "https://localhost:8080/"
        },
        "id": "xLHTy-g4eKbA",
        "outputId": "cbb36cac-c0ab-4ebd-cc89-f94241d3aa03"
      },
      "source": [
        "from google.colab import drive\n",
        "drive.mount('/content/gdrive')"
      ],
      "execution_count": 24,
      "outputs": [
        {
          "output_type": "stream",
          "name": "stdout",
          "text": [
            "Drive already mounted at /content/gdrive; to attempt to forcibly remount, call drive.mount(\"/content/gdrive\", force_remount=True).\n"
          ]
        }
      ]
    },
    {
      "cell_type": "code",
      "metadata": {
        "id": "FXD_5_R5W1Kg"
      },
      "source": [
        "#loading the data\n",
        "df = pd.read_csv('gdrive/My Drive/Spam/spam.csv', engine='python')\n",
        "df.rename(columns={'v1':'Spam', 'v2':'SMS'}, inplace=True)"
      ],
      "execution_count": 25,
      "outputs": []
    },
    {
      "cell_type": "code",
      "metadata": {
        "id": "TpUH6LQbW1Ki",
        "colab": {
          "base_uri": "https://localhost:8080/"
        },
        "outputId": "70d0770b-f916-4e69-fbc1-7834d134c457"
      },
      "source": [
        "#Check whether there are any null values\n",
        "df.isna().sum()"
      ],
      "execution_count": 26,
      "outputs": [
        {
          "output_type": "execute_result",
          "data": {
            "text/plain": [
              "Spam             0\n",
              "SMS              0\n",
              "Unnamed: 2    5522\n",
              "Unnamed: 3    5560\n",
              "Unnamed: 4    5566\n",
              "dtype: int64"
            ]
          },
          "metadata": {},
          "execution_count": 26
        }
      ]
    },
    {
      "cell_type": "code",
      "metadata": {
        "id": "OUJ842vBW1Ki",
        "colab": {
          "base_uri": "https://localhost:8080/",
          "height": 175
        },
        "outputId": "8dffc8d2-94f2-454a-cac0-1cae01b64f38"
      },
      "source": [
        "df.describe()"
      ],
      "execution_count": 27,
      "outputs": [
        {
          "output_type": "execute_result",
          "data": {
            "text/html": [
              "<div>\n",
              "<style scoped>\n",
              "    .dataframe tbody tr th:only-of-type {\n",
              "        vertical-align: middle;\n",
              "    }\n",
              "\n",
              "    .dataframe tbody tr th {\n",
              "        vertical-align: top;\n",
              "    }\n",
              "\n",
              "    .dataframe thead th {\n",
              "        text-align: right;\n",
              "    }\n",
              "</style>\n",
              "<table border=\"1\" class=\"dataframe\">\n",
              "  <thead>\n",
              "    <tr style=\"text-align: right;\">\n",
              "      <th></th>\n",
              "      <th>Spam</th>\n",
              "      <th>SMS</th>\n",
              "      <th>Unnamed: 2</th>\n",
              "      <th>Unnamed: 3</th>\n",
              "      <th>Unnamed: 4</th>\n",
              "    </tr>\n",
              "  </thead>\n",
              "  <tbody>\n",
              "    <tr>\n",
              "      <th>count</th>\n",
              "      <td>5572</td>\n",
              "      <td>5572</td>\n",
              "      <td>50</td>\n",
              "      <td>12</td>\n",
              "      <td>6</td>\n",
              "    </tr>\n",
              "    <tr>\n",
              "      <th>unique</th>\n",
              "      <td>2</td>\n",
              "      <td>5169</td>\n",
              "      <td>43</td>\n",
              "      <td>10</td>\n",
              "      <td>5</td>\n",
              "    </tr>\n",
              "    <tr>\n",
              "      <th>top</th>\n",
              "      <td>ham</td>\n",
              "      <td>Sorry, I'll call later</td>\n",
              "      <td>bt not his girlfrnd... G o o d n i g h t . . .@\"</td>\n",
              "      <td>MK17 92H. 450Ppw 16\"</td>\n",
              "      <td>GNT:-)\"</td>\n",
              "    </tr>\n",
              "    <tr>\n",
              "      <th>freq</th>\n",
              "      <td>4825</td>\n",
              "      <td>30</td>\n",
              "      <td>3</td>\n",
              "      <td>2</td>\n",
              "      <td>2</td>\n",
              "    </tr>\n",
              "  </tbody>\n",
              "</table>\n",
              "</div>"
            ],
            "text/plain": [
              "        Spam                     SMS  ...             Unnamed: 3 Unnamed: 4\n",
              "count   5572                    5572  ...                     12          6\n",
              "unique     2                    5169  ...                     10          5\n",
              "top      ham  Sorry, I'll call later  ...   MK17 92H. 450Ppw 16\"    GNT:-)\"\n",
              "freq    4825                      30  ...                      2          2\n",
              "\n",
              "[4 rows x 5 columns]"
            ]
          },
          "metadata": {},
          "execution_count": 27
        }
      ]
    },
    {
      "cell_type": "markdown",
      "metadata": {
        "id": "YI-pb5J-W1Kj"
      },
      "source": [
        "Note:\n",
        "    \n",
        "    There are 5572 records out of which 5169 are unique"
      ]
    },
    {
      "cell_type": "code",
      "metadata": {
        "id": "Zf06qA-FW1Kk"
      },
      "source": [
        "#Storing all the stop words in a variable\n",
        "stopwords_list = stopwords.words('english') "
      ],
      "execution_count": 28,
      "outputs": []
    },
    {
      "cell_type": "code",
      "metadata": {
        "id": "XqvGFC0oW1Kk"
      },
      "source": [
        "#Initializing PorterStemmer and WordNetLemmatizer\n",
        "stemmer = PorterStemmer()\n",
        "Lemmatizer = WordNetLemmatizer()"
      ],
      "execution_count": 29,
      "outputs": []
    },
    {
      "cell_type": "code",
      "metadata": {
        "id": "kSJDbInOW1Kl"
      },
      "source": [
        "#All the processed sentences will be stored in corpus list\n",
        "corpus = []\n",
        "for i in range(df.shape[0]):\n",
        "    sent = re.sub('[^a-zA-Z]',' ',df['SMS'][i]) #Removes all Special Characters and punctuations\n",
        "    sent = re.sub('\\s+[a-zA-Z]\\s+',' ',sent) #Removes all single characters\n",
        "    sent = re.sub('\\s+',' ',sent) #Replace multiple spaces with a space\n",
        "    sent = sent.lower() #Convert all words into lower case\n",
        "    words = nltk.word_tokenize(sent) #Tokenization of sentence into words\n",
        "    words = [Lemmatizer.lemmatize(word) for word in words if word not in stopwords_list] #Applying Lemmatization\n",
        "    processed_sent = ' '.join(words)\n",
        "    corpus.append(processed_sent)\n",
        "    "
      ],
      "execution_count": 30,
      "outputs": []
    },
    {
      "cell_type": "code",
      "metadata": {
        "id": "RMrZ2PLWW1Km",
        "colab": {
          "base_uri": "https://localhost:8080/"
        },
        "outputId": "5b617e5c-a809-4814-b5af-699604d9c126"
      },
      "source": [
        "#Top 10 processed rows in corpus\n",
        "corpus[:10]"
      ],
      "execution_count": 31,
      "outputs": [
        {
          "output_type": "execute_result",
          "data": {
            "text/plain": [
              "['go jurong point crazy available bugis great world la buffet cine got amore wat',\n",
              " 'ok lar joking wif oni',\n",
              " 'free entry wkly comp win fa cup final tkts st may text fa receive entry question std txt rate c apply',\n",
              " 'u dun say early hor c already say',\n",
              " 'nah think go usf life around though',\n",
              " 'freemsg hey darling week word back like fun still tb ok xxx std chgs send rcv',\n",
              " 'even brother like speak treat like aid patent',\n",
              " 'per request melle melle oru minnaminunginte nurungu vettam set callertune caller press copy friend callertune',\n",
              " 'winner valued network customer selected receivea prize reward claim call claim code kl valid hour',\n",
              " 'mobile month r entitled update latest colour mobile camera free call mobile update co free']"
            ]
          },
          "metadata": {},
          "execution_count": 31
        }
      ]
    },
    {
      "cell_type": "code",
      "metadata": {
        "id": "_M5lQDIaW1Kn"
      },
      "source": [
        "#Imputing Spam with 1 and Ham with 0\n",
        "sms_dict = {'ham': 0, 'spam': 1}\n",
        "df['Spam'] = df['Spam'].map(sms_dict)"
      ],
      "execution_count": 32,
      "outputs": []
    },
    {
      "cell_type": "code",
      "metadata": {
        "id": "olIJ0VpvW1Kp"
      },
      "source": [
        "#Apply Bag of Words\n",
        "from sklearn.feature_extraction.text import CountVectorizer\n",
        "cv = CountVectorizer(max_features= 5000)\n",
        "X = cv.fit_transform(corpus).toarray()"
      ],
      "execution_count": 33,
      "outputs": []
    },
    {
      "cell_type": "code",
      "metadata": {
        "id": "4fYJUmCgW1Kq"
      },
      "source": [
        "y = df[['Spam']]"
      ],
      "execution_count": 34,
      "outputs": []
    },
    {
      "cell_type": "code",
      "metadata": {
        "id": "EFUuLBuEW1Kq"
      },
      "source": [
        "from sklearn.model_selection import train_test_split\n",
        "x_train,x_test,y_train,y_test = train_test_split(X,y,test_size = 0.25,random_state = 0)"
      ],
      "execution_count": 35,
      "outputs": []
    },
    {
      "cell_type": "markdown",
      "metadata": {
        "id": "ue-RWNKwW1Kr"
      },
      "source": [
        "### NAIVE BAYES"
      ]
    },
    {
      "cell_type": "code",
      "metadata": {
        "id": "STZSxlUyW1Kr",
        "colab": {
          "base_uri": "https://localhost:8080/"
        },
        "outputId": "1944411a-5c2b-47e7-ef04-f01ccf37e849"
      },
      "source": [
        "from sklearn.naive_bayes import MultinomialNB\n",
        "mnb = MultinomialNB()\n",
        "mnb.fit(x_train,y_train)"
      ],
      "execution_count": 36,
      "outputs": [
        {
          "output_type": "stream",
          "name": "stderr",
          "text": [
            "/usr/local/lib/python3.7/dist-packages/sklearn/utils/validation.py:760: DataConversionWarning: A column-vector y was passed when a 1d array was expected. Please change the shape of y to (n_samples, ), for example using ravel().\n",
            "  y = column_or_1d(y, warn=True)\n"
          ]
        },
        {
          "output_type": "execute_result",
          "data": {
            "text/plain": [
              "MultinomialNB(alpha=1.0, class_prior=None, fit_prior=True)"
            ]
          },
          "metadata": {},
          "execution_count": 36
        }
      ]
    },
    {
      "cell_type": "code",
      "metadata": {
        "id": "gQjcndwEW1Ks",
        "colab": {
          "base_uri": "https://localhost:8080/"
        },
        "outputId": "f00161da-e691-4969-ea93-de391332533f"
      },
      "source": [
        "mnb.score(x_test,y_test)"
      ],
      "execution_count": 37,
      "outputs": [
        {
          "output_type": "execute_result",
          "data": {
            "text/plain": [
              "0.9820531227566404"
            ]
          },
          "metadata": {},
          "execution_count": 37
        }
      ]
    },
    {
      "cell_type": "code",
      "metadata": {
        "id": "DEBV9AR1W1Ks"
      },
      "source": [
        "from sklearn.model_selection import cross_val_score, KFold\n",
        "kfold = KFold(n_splits = 5)"
      ],
      "execution_count": 38,
      "outputs": []
    },
    {
      "cell_type": "code",
      "metadata": {
        "id": "UV74fjRVW1Ks",
        "colab": {
          "base_uri": "https://localhost:8080/"
        },
        "outputId": "4be97863-736e-4388-f93f-fddc5172ddee"
      },
      "source": [
        "cross_validation = cross_val_score(mnb,x_train,y_train,scoring = 'accuracy',cv = kfold )"
      ],
      "execution_count": 39,
      "outputs": [
        {
          "output_type": "stream",
          "name": "stderr",
          "text": [
            "/usr/local/lib/python3.7/dist-packages/sklearn/utils/validation.py:760: DataConversionWarning: A column-vector y was passed when a 1d array was expected. Please change the shape of y to (n_samples, ), for example using ravel().\n",
            "  y = column_or_1d(y, warn=True)\n",
            "/usr/local/lib/python3.7/dist-packages/sklearn/utils/validation.py:760: DataConversionWarning: A column-vector y was passed when a 1d array was expected. Please change the shape of y to (n_samples, ), for example using ravel().\n",
            "  y = column_or_1d(y, warn=True)\n",
            "/usr/local/lib/python3.7/dist-packages/sklearn/utils/validation.py:760: DataConversionWarning: A column-vector y was passed when a 1d array was expected. Please change the shape of y to (n_samples, ), for example using ravel().\n",
            "  y = column_or_1d(y, warn=True)\n",
            "/usr/local/lib/python3.7/dist-packages/sklearn/utils/validation.py:760: DataConversionWarning: A column-vector y was passed when a 1d array was expected. Please change the shape of y to (n_samples, ), for example using ravel().\n",
            "  y = column_or_1d(y, warn=True)\n",
            "/usr/local/lib/python3.7/dist-packages/sklearn/utils/validation.py:760: DataConversionWarning: A column-vector y was passed when a 1d array was expected. Please change the shape of y to (n_samples, ), for example using ravel().\n",
            "  y = column_or_1d(y, warn=True)\n"
          ]
        }
      ]
    },
    {
      "cell_type": "code",
      "metadata": {
        "id": "yizBqONqW1Kt",
        "colab": {
          "base_uri": "https://localhost:8080/"
        },
        "outputId": "f99efdbb-ad67-410f-cfae-1e71f326485f"
      },
      "source": [
        "print('Cross Validation Score is: {}'.format(cross_validation.mean()))"
      ],
      "execution_count": 40,
      "outputs": [
        {
          "output_type": "stream",
          "name": "stdout",
          "text": [
            "Cross Validation Score is: 0.9806188579778243\n"
          ]
        }
      ]
    },
    {
      "cell_type": "markdown",
      "metadata": {
        "id": "3CzyMCI7W1Kt"
      },
      "source": [
        "### ANN MODEL"
      ]
    },
    {
      "cell_type": "markdown",
      "metadata": {
        "id": "E5LlehG_W1Kt"
      },
      "source": [
        "With our data loaded and preprocessed, we’re now well prepared to use neural network architecture to classify the text message."
      ]
    },
    {
      "cell_type": "code",
      "metadata": {
        "id": "cruoSKBnW1Ku"
      },
      "source": [
        "import tensorflow as tf"
      ],
      "execution_count": 41,
      "outputs": []
    },
    {
      "cell_type": "code",
      "metadata": {
        "id": "JkILyFkiW1Ku"
      },
      "source": [
        "from tensorflow import keras\n",
        "from tensorflow.keras.layers import Dense,ReLU\n",
        "from tensorflow.keras.models import Sequential\n",
        "from tensorflow.keras.optimizers import SGD"
      ],
      "execution_count": 42,
      "outputs": []
    },
    {
      "cell_type": "code",
      "metadata": {
        "id": "UDd7FYAEW1Kv"
      },
      "source": [
        "#Initialize Model\n",
        "model = Sequential()\n",
        "\n",
        "#Input Layer\n",
        "model.add(Dense(7,activation = 'relu',kernel_initializer = 'uniform', input_dim = 5000))\n",
        "\n",
        "#Hidden Layer\n",
        "model.add(Dense(9,activation = 'relu',kernel_initializer = 'uniform'))\n",
        "\n",
        "#Output Layer\n",
        "model.add(Dense(1,activation = 'sigmoid',kernel_initializer = 'uniform'))\n"
      ],
      "execution_count": 43,
      "outputs": []
    },
    {
      "cell_type": "code",
      "metadata": {
        "id": "U-ute61jW1Kv"
      },
      "source": [
        "#Compilation\n",
        "opt = SGD(learning_rate = 0.1,momentum = 0.5)\n",
        "model.compile(optimizer = opt, loss = 'binary_crossentropy', metrics = ['accuracy'])"
      ],
      "execution_count": 44,
      "outputs": []
    },
    {
      "cell_type": "code",
      "metadata": {
        "id": "Ci_-zXL5W1Kv",
        "colab": {
          "base_uri": "https://localhost:8080/"
        },
        "outputId": "1e297162-71e5-42be-d088-c780fbf82f9e"
      },
      "source": [
        "#Accuracy on Train Data\n",
        "model.fit(x_train,y_train,batch_size = 4,epochs = 5,validation_data = (x_test,y_test))"
      ],
      "execution_count": 45,
      "outputs": [
        {
          "output_type": "stream",
          "name": "stdout",
          "text": [
            "Epoch 1/5\n",
            "1045/1045 [==============================] - 3s 2ms/step - loss: 0.3361 - accuracy: 0.8878 - val_loss: 0.1055 - val_accuracy: 0.9713\n",
            "Epoch 2/5\n",
            "1045/1045 [==============================] - 1s 1ms/step - loss: 0.0629 - accuracy: 0.9818 - val_loss: 0.0728 - val_accuracy: 0.9785\n",
            "Epoch 3/5\n",
            "1045/1045 [==============================] - 2s 1ms/step - loss: 0.0306 - accuracy: 0.9923 - val_loss: 0.0681 - val_accuracy: 0.9813\n",
            "Epoch 4/5\n",
            "1045/1045 [==============================] - 1s 1ms/step - loss: 0.0195 - accuracy: 0.9955 - val_loss: 0.0771 - val_accuracy: 0.9763\n",
            "Epoch 5/5\n",
            "1045/1045 [==============================] - 1s 1ms/step - loss: 0.0090 - accuracy: 0.9981 - val_loss: 0.0732 - val_accuracy: 0.9842\n"
          ]
        },
        {
          "output_type": "execute_result",
          "data": {
            "text/plain": [
              "<keras.callbacks.History at 0x7f755c30aed0>"
            ]
          },
          "metadata": {},
          "execution_count": 45
        }
      ]
    },
    {
      "cell_type": "code",
      "metadata": {
        "id": "7nX3PZOHW1Kw",
        "colab": {
          "base_uri": "https://localhost:8080/"
        },
        "outputId": "7ae4dbfe-e643-4567-d0cc-04f60c0670a4"
      },
      "source": [
        "#Accuracy on Test data\n",
        "model.evaluate(x_test,y_test,batch_size = 4)"
      ],
      "execution_count": 46,
      "outputs": [
        {
          "output_type": "stream",
          "name": "stdout",
          "text": [
            "349/349 [==============================] - 0s 773us/step - loss: 0.0732 - accuracy: 0.9842\n"
          ]
        },
        {
          "output_type": "execute_result",
          "data": {
            "text/plain": [
              "[0.07321330159902573, 0.9842067360877991]"
            ]
          },
          "metadata": {},
          "execution_count": 46
        }
      ]
    },
    {
      "cell_type": "code",
      "metadata": {
        "id": "D3Oop9sJW1Kw"
      },
      "source": [
        ""
      ],
      "execution_count": 46,
      "outputs": []
    }
  ]
}